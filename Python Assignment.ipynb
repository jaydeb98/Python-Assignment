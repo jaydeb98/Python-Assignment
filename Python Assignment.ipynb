{
 "cells": [
  {
   "cell_type": "code",
   "execution_count": null,
   "id": "b818206e-b629-4f99-ab33-6451573d5d1c",
   "metadata": {},
   "outputs": [],
   "source": [
    "#1. Explain with an example each when to use a for loop and a while loop\n",
    "\n",
    "A for loop is used when you know the number of iterations in advance or when you want to iterate over a sequence such as a list, tuple, string, or range.\n",
    "\n",
    "Example:\n",
    "\n",
    "fruits = ['apple', 'banana', 'orange']\n",
    "for i in fruits:\n",
    "    print(i)\n",
    "    \n",
    "A while loop is used when you want to repeat a block of code until a certain condition is met. \n",
    "It is suitable when the number of iterations is uncertain or depends on a condition.\n",
    "\n",
    "Example:\n",
    "\n",
    "count = 0\n",
    "while count < 5:\n",
    "    print(count)\n",
    "    count = count+1"
   ]
  },
  {
   "cell_type": "code",
   "execution_count": null,
   "id": "f1f24545-1391-4b98-933b-e0522e999c62",
   "metadata": {},
   "outputs": [],
   "source": [
    "#2. Write a python program to print the sum and product of the first 10 natural numbers using for and while loop.\n",
    "\n",
    "# Sum and product of the first 10 natural numbers using for loop\n",
    "sum = 0\n",
    "product = 1\n",
    "\n",
    "for i in range(1, 11):\n",
    "    sum = i+1\n",
    "    product = i*i\n",
    "\n",
    "print(\"Sum of the first 10 natural numbers:\", sum)\n",
    "print(\"Product of the first 10 natural numbers:\", product)\n",
    "\n",
    "# Sum and product of the first 10 natural numbers using while loop\n",
    "sum = 0\n",
    "product = 1\n",
    "count = 1\n",
    "\n",
    "while count <= 10:\n",
    "    sum = count+sum\n",
    "    product = count*product\n",
    "    count = count+1\n",
    "\n",
    "print(\"Sum of the first 10 natural numbers:\", sum)\n",
    "print(\"Product of the first 10 natural numbers:\", product)"
   ]
  },
  {
   "cell_type": "code",
   "execution_count": 1,
   "id": "34619029-8fe8-461b-9c5a-528d3cf6d393",
   "metadata": {},
   "outputs": [
    {
     "name": "stdin",
     "output_type": "stream",
     "text": [
      "Enter the unit of electricity consumed in a month 310\n"
     ]
    },
    {
     "name": "stdout",
     "output_type": "stream",
     "text": [
      "Your electricity bill is 2250.0\n"
     ]
    }
   ],
   "source": [
    "#3. \n",
    "\n",
    "n=int(input('Enter the unit of electricity consumed in a month'))\n",
    "bill=float()\n",
    "if n<=100:\n",
    "    bill=n*4.5\n",
    "elif n>100 and n<=200:\n",
    "    bill=100*4.5+(n-100)*6\n",
    "elif n>200 and n<=300:\n",
    "    bill=100*4.5+100*6+(n-200)*10\n",
    "else:\n",
    "    bill=100*4.5+100*6+100*10+(n-300)*20\n",
    "print('Your electricity bill is',bill)"
   ]
  },
  {
   "cell_type": "code",
   "execution_count": 5,
   "id": "b256449a-1aa4-4091-a8b3-3cc5bda7efd9",
   "metadata": {},
   "outputs": [
    {
     "name": "stdout",
     "output_type": "stream",
     "text": [
      "[2, 4, 5, 6, 8, 10, 12, 14, 15, 16, 18, 20, 22, 24, 25, 26, 28, 30, 32, 34, 35, 36, 38, 40, 42, 44, 45, 46, 48, 50, 52, 54, 55, 56, 58, 60, 62, 64, 65, 66, 68, 70, 72, 74, 75, 76, 78, 80, 82, 84, 85, 86, 88, 90, 92, 94, 95, 96, 98, 100]\n",
      "[2, 4, 5, 6, 8, 10, 12, 14, 15, 16, 18, 20, 22, 24, 25, 26, 28, 30, 32, 34, 35, 36, 38, 40, 42, 44, 45, 46, 48, 50, 52, 54, 55, 56, 58, 60, 62, 64, 65, 66, 68, 70, 72, 74, 75, 76, 78, 80, 82, 84, 85, 86, 88, 90, 92, 94, 95, 96, 98, 100]\n"
     ]
    }
   ],
   "source": [
    "#4. \n",
    "\n",
    "#Using for loop\n",
    "\n",
    "l = []\n",
    "\n",
    "for i in range(1, 101):\n",
    "    cube = i ** 3\n",
    "    if cube % 4 == 0 or cube % 5 == 0:\n",
    "        l.append(i)\n",
    "print(l)\n",
    "\n",
    "#Using while loop\n",
    "\n",
    "l = []\n",
    "n = 1\n",
    "while n <= 100:\n",
    "    cube = n ** 3\n",
    "    if cube % 4 == 0 or cube % 5 == 0:\n",
    "        l.append(n)\n",
    "    n = n+1\n",
    "print(l)"
   ]
  },
  {
   "cell_type": "code",
   "execution_count": 6,
   "id": "7f2096cd-dbbe-4287-88a7-b5514a6f39b0",
   "metadata": {},
   "outputs": [
    {
     "name": "stdout",
     "output_type": "stream",
     "text": [
      "Number of vowels in the string: 12\n"
     ]
    }
   ],
   "source": [
    "#5.\n",
    "string = \"I want to become a data scientist\"\n",
    "count = 0\n",
    "string = string.lower()\n",
    "vowels = {'a', 'e', 'i', 'o', 'u'}\n",
    "\n",
    "for i in string:\n",
    "    if i in vowels:\n",
    "        count = count+1\n",
    "print(\"Number of vowels in the string:\",count)"
   ]
  },
  {
   "cell_type": "code",
   "execution_count": null,
   "id": "47b0f396-fcc9-41a2-98d4-54e4097cf5c4",
   "metadata": {},
   "outputs": [],
   "source": []
  }
 ],
 "metadata": {
  "kernelspec": {
   "display_name": "Python 3 (ipykernel)",
   "language": "python",
   "name": "python3"
  },
  "language_info": {
   "codemirror_mode": {
    "name": "ipython",
    "version": 3
   },
   "file_extension": ".py",
   "mimetype": "text/x-python",
   "name": "python",
   "nbconvert_exporter": "python",
   "pygments_lexer": "ipython3",
   "version": "3.10.8"
  }
 },
 "nbformat": 4,
 "nbformat_minor": 5
}
